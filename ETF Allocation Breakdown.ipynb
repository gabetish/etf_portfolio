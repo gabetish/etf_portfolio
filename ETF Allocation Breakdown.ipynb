{
 "cells": [
  {
   "cell_type": "code",
   "execution_count": 1,
   "id": "395a4681",
   "metadata": {},
   "outputs": [
    {
     "name": "stdout",
     "output_type": "stream",
     "text": [
      "Requirement already satisfied: yfinance in /Users/gabrieltishelman/opt/anaconda3/lib/python3.9/site-packages (0.2.18)\n",
      "Requirement already satisfied: appdirs>=1.4.4 in /Users/gabrieltishelman/opt/anaconda3/lib/python3.9/site-packages (from yfinance) (1.4.4)\n",
      "Requirement already satisfied: pandas>=1.3.0 in /Users/gabrieltishelman/opt/anaconda3/lib/python3.9/site-packages (from yfinance) (2.0.1)\n",
      "Requirement already satisfied: html5lib>=1.1 in /Users/gabrieltishelman/opt/anaconda3/lib/python3.9/site-packages (from yfinance) (1.1)\n",
      "Requirement already satisfied: frozendict>=2.3.4 in /Users/gabrieltishelman/opt/anaconda3/lib/python3.9/site-packages (from yfinance) (2.3.8)\n",
      "Requirement already satisfied: numpy>=1.16.5 in /Users/gabrieltishelman/opt/anaconda3/lib/python3.9/site-packages (from yfinance) (1.21.5)\n",
      "Requirement already satisfied: requests>=2.26 in /Users/gabrieltishelman/opt/anaconda3/lib/python3.9/site-packages (from yfinance) (2.29.0)\n",
      "Requirement already satisfied: pytz>=2022.5 in /Users/gabrieltishelman/opt/anaconda3/lib/python3.9/site-packages (from yfinance) (2023.3)\n",
      "Requirement already satisfied: lxml>=4.9.1 in /Users/gabrieltishelman/opt/anaconda3/lib/python3.9/site-packages (from yfinance) (4.9.2)\n",
      "Requirement already satisfied: cryptography>=3.3.2 in /Users/gabrieltishelman/opt/anaconda3/lib/python3.9/site-packages (from yfinance) (3.4.8)\n",
      "Requirement already satisfied: multitasking>=0.0.7 in /Users/gabrieltishelman/opt/anaconda3/lib/python3.9/site-packages (from yfinance) (0.0.11)\n",
      "Requirement already satisfied: beautifulsoup4>=4.11.1 in /Users/gabrieltishelman/opt/anaconda3/lib/python3.9/site-packages (from yfinance) (4.11.1)\n",
      "Requirement already satisfied: soupsieve>1.2 in /Users/gabrieltishelman/opt/anaconda3/lib/python3.9/site-packages (from beautifulsoup4>=4.11.1->yfinance) (2.3.1)\n",
      "Requirement already satisfied: cffi>=1.12 in /Users/gabrieltishelman/opt/anaconda3/lib/python3.9/site-packages (from cryptography>=3.3.2->yfinance) (1.15.0)\n",
      "Requirement already satisfied: pycparser in /Users/gabrieltishelman/opt/anaconda3/lib/python3.9/site-packages (from cffi>=1.12->cryptography>=3.3.2->yfinance) (2.21)\n",
      "Requirement already satisfied: six>=1.9 in /Users/gabrieltishelman/opt/anaconda3/lib/python3.9/site-packages (from html5lib>=1.1->yfinance) (1.16.0)\n",
      "Requirement already satisfied: webencodings in /Users/gabrieltishelman/opt/anaconda3/lib/python3.9/site-packages (from html5lib>=1.1->yfinance) (0.5.1)\n",
      "Requirement already satisfied: tzdata>=2022.1 in /Users/gabrieltishelman/opt/anaconda3/lib/python3.9/site-packages (from pandas>=1.3.0->yfinance) (2023.3)\n",
      "Requirement already satisfied: python-dateutil>=2.8.2 in /Users/gabrieltishelman/opt/anaconda3/lib/python3.9/site-packages (from pandas>=1.3.0->yfinance) (2.8.2)\n",
      "Requirement already satisfied: urllib3<1.27,>=1.21.1 in /Users/gabrieltishelman/opt/anaconda3/lib/python3.9/site-packages (from requests>=2.26->yfinance) (1.26.9)\n",
      "Requirement already satisfied: certifi>=2017.4.17 in /Users/gabrieltishelman/opt/anaconda3/lib/python3.9/site-packages (from requests>=2.26->yfinance) (2021.10.8)\n",
      "Requirement already satisfied: charset-normalizer<4,>=2 in /Users/gabrieltishelman/opt/anaconda3/lib/python3.9/site-packages (from requests>=2.26->yfinance) (2.0.4)\n",
      "Requirement already satisfied: idna<4,>=2.5 in /Users/gabrieltishelman/opt/anaconda3/lib/python3.9/site-packages (from requests>=2.26->yfinance) (3.3)\n",
      "Note: you may need to restart the kernel to use updated packages.\n"
     ]
    }
   ],
   "source": [
    "pip install yfinance"
   ]
  },
  {
   "cell_type": "code",
   "execution_count": 2,
   "id": "e9e1d233",
   "metadata": {},
   "outputs": [
    {
     "name": "stdout",
     "output_type": "stream",
     "text": [
      "Requirement already satisfied: pyinstaller in /Users/gabrieltishelman/opt/anaconda3/lib/python3.9/site-packages (5.10.1)\n",
      "Requirement already satisfied: altgraph in /Users/gabrieltishelman/opt/anaconda3/lib/python3.9/site-packages (from pyinstaller) (0.17.3)\n",
      "Requirement already satisfied: pyinstaller-hooks-contrib>=2021.4 in /Users/gabrieltishelman/opt/anaconda3/lib/python3.9/site-packages (from pyinstaller) (2023.2)\n",
      "Requirement already satisfied: macholib>=1.8 in /Users/gabrieltishelman/opt/anaconda3/lib/python3.9/site-packages (from pyinstaller) (1.16.2)\n",
      "Requirement already satisfied: setuptools>=42.0.0 in /Users/gabrieltishelman/opt/anaconda3/lib/python3.9/site-packages (from pyinstaller) (61.2.0)\n",
      "Note: you may need to restart the kernel to use updated packages.\n"
     ]
    }
   ],
   "source": [
    "pip install pyinstaller\n"
   ]
  },
  {
   "cell_type": "code",
   "execution_count": 3,
   "id": "571e2111",
   "metadata": {},
   "outputs": [
    {
     "name": "stdout",
     "output_type": "stream",
     "text": [
      "Requirement already satisfied: bs4 in /Users/gabrieltishelman/opt/anaconda3/lib/python3.9/site-packages (0.0.1)\n",
      "Requirement already satisfied: beautifulsoup4 in /Users/gabrieltishelman/opt/anaconda3/lib/python3.9/site-packages (from bs4) (4.11.1)\n",
      "Requirement already satisfied: soupsieve>1.2 in /Users/gabrieltishelman/opt/anaconda3/lib/python3.9/site-packages (from beautifulsoup4->bs4) (2.3.1)\n",
      "Note: you may need to restart the kernel to use updated packages.\n"
     ]
    }
   ],
   "source": [
    "pip install bs4"
   ]
  },
  {
   "cell_type": "code",
   "execution_count": 4,
   "id": "4ac4db39",
   "metadata": {},
   "outputs": [
    {
     "name": "stdout",
     "output_type": "stream",
     "text": [
      "Requirement already satisfied: requests in /Users/gabrieltishelman/opt/anaconda3/lib/python3.9/site-packages (2.29.0)\n",
      "Requirement already satisfied: urllib3<1.27,>=1.21.1 in /Users/gabrieltishelman/opt/anaconda3/lib/python3.9/site-packages (from requests) (1.26.9)\n",
      "Requirement already satisfied: idna<4,>=2.5 in /Users/gabrieltishelman/opt/anaconda3/lib/python3.9/site-packages (from requests) (3.3)\n",
      "Requirement already satisfied: charset-normalizer<4,>=2 in /Users/gabrieltishelman/opt/anaconda3/lib/python3.9/site-packages (from requests) (2.0.4)\n",
      "Requirement already satisfied: certifi>=2017.4.17 in /Users/gabrieltishelman/opt/anaconda3/lib/python3.9/site-packages (from requests) (2021.10.8)\n",
      "Note: you may need to restart the kernel to use updated packages.\n"
     ]
    }
   ],
   "source": [
    "pip install requests"
   ]
  },
  {
   "cell_type": "code",
   "execution_count": 5,
   "id": "a6886aa0",
   "metadata": {},
   "outputs": [],
   "source": [
    "import yfinance as yf\n",
    "import re\n",
    "import json\n",
    "import csv\n",
    "from io import StringIO\n",
    "from bs4 import BeautifulSoup\n",
    "import requests\n"
   ]
  },
  {
   "cell_type": "code",
   "execution_count": null,
   "id": "53170916",
   "metadata": {},
   "outputs": [],
   "source": [
    "url_mf = 'https://mutualfunds.com/funds/{}/'\n",
    "yahoo_funds = 'https://finance.yahoo.com/quote/{}/profile?p={}'\n",
    "nasdaq_ms = 'https://www.morningstar.com/stocks/xnas/{}/quote'\n",
    "nyse_ms = 'https://www.morningstar.com/stocks/xnys/{}/quote'\n",
    "otc_ms = 'https://www.morningstar.com/stocks/pinx/{}/quote'\n",
    "\n",
    "investment_styles = ['Large Growth', 'Large Blend', 'Large Value', 'Large Core',\n",
    "                     'Mid Growth', 'Mid Blend', 'Mid Value', 'Mid Core',\n",
    "                     'Small Growth', 'Small Blend', 'Small Value', 'Small Core']"
   ]
  },
  {
   "cell_type": "code",
   "execution_count": 6,
   "id": "65a03dfc",
   "metadata": {},
   "outputs": [
    {
     "name": "stdout",
     "output_type": "stream",
     "text": [
      "ETF, please: DFUV\n",
      "DFUV\n",
      "Large Value\n"
     ]
    }
   ],
   "source": [
    "## Identify the Asset Class of an ETF\n",
    "\n",
    "# Step 1: Create a Ticker object with the desired symbol\n",
    "symbol = input(\"ETF, please: \")\n",
    "symbol_prop = symbol.upper()\n",
    "ticker = yf.Ticker(symbol)\n",
    "\n",
    "# Step 2: Retrieve the asset profile data\n",
    "asset_profile = ticker.info.get('category')\n",
    "\n",
    "# Step 3: Print the category information\n",
    "\n",
    "print(symbol_prop + '\\n' + asset_profile)"
   ]
  },
  {
   "cell_type": "code",
   "execution_count": 26,
   "id": "c4a2d33e",
   "metadata": {},
   "outputs": [
    {
     "name": "stdout",
     "output_type": "stream",
     "text": [
      "Enter '1' to manually input values or '2' to upload a CSV file: 2\n",
      "Enter the path to the CSV file: /Users/gabrieltishelman/Desktop/PYTHON TEST.csv\n",
      "\n",
      "Portfolio: \n",
      "\n",
      "Symbol      Weight  Category\n",
      "--------  --------  -------------------------\n",
      "VOO          0.1    Large Blend\n",
      "DFAC         0.1    Large Blend\n",
      "MTUM         0.025  Large Growth\n",
      "DUHP         0.025  Large Blend\n",
      "USMV         0.025  Large Blend\n",
      "DFUV         0.025  Large Value\n",
      "VB           0.1    Small Blend\n",
      "SMLF         0.05   Small Blend\n",
      "AVSC         0.05   Small Value\n",
      "VEA          0.1    Foreign Large Blend\n",
      "DFIC         0.1    Foreign Large Blend\n",
      "IMTM         0.05   Foreign Large Growth\n",
      "DIHP         0.05   Foreign Large Blend\n",
      "DFIV         0.05   Foreign Large Value\n",
      "EFAV         0.05   Foreign Large Blend\n",
      "VWO          0.05   Diversified Emerging Mkts\n",
      "AVEM         0.05   Diversified Emerging Mkts\n",
      "\n",
      "Number of ETFs in the portfolio: 17\n",
      "\n",
      "Allcation Breakdown: \n",
      " \n",
      "Category                   Allocation\n",
      "-------------------------  ------------\n",
      "Large Blend                25.00%\n",
      "Large Growth               2.50%\n",
      "Large Value                2.50%\n",
      "Small Blend                15.00%\n",
      "Small Value                5.00%\n",
      "Foreign Large Blend        30.00%\n",
      "Foreign Large Growth       5.00%\n",
      "Foreign Large Value        5.00%\n",
      "Diversified Emerging Mkts  10.00%\n"
     ]
    }
   ],
   "source": [
    "import yfinance as yf\n",
    "from tabulate import tabulate\n",
    "from collections import defaultdict\n",
    "import csv\n",
    "\n",
    "# Create an empty table as a list of lists\n",
    "table = []\n",
    "\n",
    "# Ask the user for input method choice\n",
    "input_method = input(\"Enter '1' to manually input values or '2' to upload a CSV file: \")\n",
    "\n",
    "# Manually input values\n",
    "if input_method == '1':\n",
    "    while True:\n",
    "        # Ask the user to input data for each column\n",
    "        symbol = input(\"Enter the ETF symbol (or 'q' to quit): \")\n",
    "        prop_symbol = symbol.upper()\n",
    "\n",
    "        # Break the loop if the user enters 'q'\n",
    "        if symbol.lower() == 'q':\n",
    "            break\n",
    "\n",
    "        weight_input = input(\"Enter the weight/proportion for the ETF: \")\n",
    "\n",
    "        # Convert percentage input to float proportion\n",
    "        if weight_input.endswith('%'):\n",
    "            weight = float(weight_input[:-1]) / 100  # Remove '%' and divide by 100\n",
    "        else:\n",
    "            weight = float(weight_input)\n",
    "\n",
    "        # Create a Ticker object with the ETF symbol\n",
    "        ticker = yf.Ticker(symbol)\n",
    "\n",
    "        # Retrieve the asset profile data and extract the category\n",
    "        asset_profile = ticker.info.get('category', 'N/A')\n",
    "\n",
    "        # Assign category as \"Cash\" if it's recognized as \"N/A\"\n",
    "        if asset_profile == 'N/A':\n",
    "            asset_profile = 'Cash'\n",
    "\n",
    "        # Add the row to the table with the symbol, weight, and category\n",
    "        table.append([prop_symbol, weight, asset_profile])\n",
    "\n",
    "        # Print the updated table\n",
    "        print(\"\\nTable:\")\n",
    "        print(tabulate(table, headers=[\"Symbol\", \"Weight\", \"Category\"]))\n",
    "        \n",
    "# Upload CSV file\n",
    "elif input_method == '2':\n",
    "    file_path = input(\"Enter the path to the CSV file: \")\n",
    "\n",
    "    try:\n",
    "        with open(file_path, 'r') as file:\n",
    "            csv_reader = csv.reader(file)\n",
    "            next(csv_reader)  # Skip header row\n",
    "\n",
    "            for row in csv_reader:\n",
    "                symbol = row[0]\n",
    "                weight_input = row[1]\n",
    "\n",
    "                if weight_input.endswith('%'):\n",
    "                    weight = float(weight_input[:-1]) / 100\n",
    "                else:\n",
    "                    weight = float(weight_input)\n",
    "\n",
    "                ticker = yf.Ticker(symbol)\n",
    "                asset_profile = ticker.info.get('category', 'N/A')\n",
    "\n",
    "                if asset_profile == 'N/A':\n",
    "                    asset_profile = 'Cash'\n",
    "\n",
    "                table.append([symbol, weight, asset_profile])\n",
    "\n",
    "        print(\"\\nPortfolio: \\n\")\n",
    "        print(tabulate(table, headers=[\"Symbol\", \"Weight\", \"Category\"]))\n",
    "\n",
    "    except FileNotFoundError:\n",
    "        print(\"File not found. Please check the file path.\")\n",
    "\n",
    "else:\n",
    "    print(\"Invalid input method choice. Please try again.\")\n",
    "\n",
    "# Count the number of entries in the first column\n",
    "num_entries = len(table)\n",
    "\n",
    "# Print the count\n",
    "print(f\"\\nNumber of ETFs in the portfolio: {num_entries}\")\n",
    "\n",
    "# Calculate total weight\n",
    "total_weight = sum(row[1] for row in table)\n",
    "\n",
    "# Calculate weighted allocation to each category\n",
    "category_allocation = defaultdict(float)\n",
    "\n",
    "for row in table:\n",
    "    category = row[2]\n",
    "    weight = row[1]\n",
    "    weighted_allocation = weight / total_weight\n",
    "    category_allocation[category] += weighted_allocation\n",
    "\n",
    "# Create a new table for category allocation\n",
    "allocation_table = []\n",
    "\n",
    "for category, allocation in category_allocation.items():\n",
    "    allocation_table.append([category, f\"{allocation:.2%}\"])\n",
    "\n",
    "# Print the category allocation table\n",
    "print(\"\\nAllcation Breakdown: \\n \")\n",
    "print(tabulate(allocation_table, headers=[\"Category\", \"Allocation\"]))"
   ]
  },
  {
   "cell_type": "markdown",
   "id": "503fb239",
   "metadata": {},
   "source": [
    "/Users/gabrieltishelman/Desktop/PYTHON.csv"
   ]
  },
  {
   "cell_type": "code",
   "execution_count": null,
   "id": "7697c197",
   "metadata": {},
   "outputs": [],
   "source": []
  }
 ],
 "metadata": {
  "kernelspec": {
   "display_name": "Python 3 (ipykernel)",
   "language": "python",
   "name": "python3"
  },
  "language_info": {
   "codemirror_mode": {
    "name": "ipython",
    "version": 3
   },
   "file_extension": ".py",
   "mimetype": "text/x-python",
   "name": "python",
   "nbconvert_exporter": "python",
   "pygments_lexer": "ipython3",
   "version": "3.9.12"
  }
 },
 "nbformat": 4,
 "nbformat_minor": 5
}
